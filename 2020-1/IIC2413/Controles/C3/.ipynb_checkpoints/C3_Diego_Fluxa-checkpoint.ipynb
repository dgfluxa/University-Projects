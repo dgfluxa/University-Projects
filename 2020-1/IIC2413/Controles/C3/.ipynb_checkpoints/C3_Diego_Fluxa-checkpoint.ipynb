{
 "cells": [
  {
   "cell_type": "markdown",
   "metadata": {},
   "source": [
    "# Actividad 3 Diego Fluxá"
   ]
  },
  {
   "cell_type": "markdown",
   "metadata": {},
   "source": [
    "Comenzaremos por importar las librerias necesarias para trabajar nuestros datos"
   ]
  },
  {
   "cell_type": "code",
   "execution_count": 1,
   "metadata": {},
   "outputs": [],
   "source": [
    "import sqlite3, csv\n",
    "import pandas as pd\n",
    "import matplotlib.pyplot as plt"
   ]
  },
  {
   "cell_type": "markdown",
   "metadata": {},
   "source": [
    "Ahora, crearemos una nueva tabla a partir de nuestro archivo \"presupuesto_2019.csv\" para relacionarlo con las tablas dentro de nuestra base de datos"
   ]
  },
  {
   "cell_type": "code",
   "execution_count": 2,
   "metadata": {},
   "outputs": [
    {
     "data": {
      "text/plain": [
       "<sqlite3.Cursor at 0x2d4d2427420>"
      ]
     },
     "execution_count": 2,
     "metadata": {},
     "output_type": "execute_result"
    }
   ],
   "source": [
    "con = sqlite3.connect(\"municipios.db\")\n",
    "cur = con.cursor()\n",
    "cur.execute(\"DROP TABLE IF EXISTS Presupuestos;\")\n",
    "cur.execute(\"CREATE TABLE Presupuestos (id int, municipio varchar(255), presupuesto int);\") # use your column names here\n",
    "\n",
    "with open('presupuesto_2019.csv','r') as fin:\n",
    "    dr = csv.DictReader(fin)\n",
    "    to_db = [(i['CODIGO'], i['MUNICIPIO'], i['Presupuesto']) for i in dr]\n",
    "\n",
    "cur.executemany(\"INSERT INTO Presupuestos VALUES (?, ?, ?);\", to_db)"
   ]
  },
  {
   "cell_type": "markdown",
   "metadata": {},
   "source": [
    "Ahora, revisaremos si se creó la tabla correctamente al imprimir las primeras 50 filas"
   ]
  },
  {
   "cell_type": "code",
   "execution_count": 3,
   "metadata": {},
   "outputs": [
    {
     "name": "stdout",
     "output_type": "stream",
     "text": [
      "(1101, 'IQUIQUE', 59072234)\n",
      "(1107, 'ALTO HOSPICIO', 13984404)\n",
      "(1401, 'POZO ALMONTE', 7613962)\n",
      "(1402, 'CAMIÑA', 1584008)\n",
      "(1403, 'COLCHANE', 2500000)\n",
      "(1404, 'HUARA', 3950000)\n",
      "(1405, 'PICA', 5887820)\n",
      "(2101, 'ANTOFAGASTA', 100635302)\n",
      "(2102, 'MEJILLONES', 9379132)\n",
      "(2103, 'SIERRA GORDA', 8184166)\n",
      "(2104, 'TALTAL', 7055871)\n",
      "(2201, 'CALAMA', 46212092)\n",
      "(2202, 'OLLAGÜE', 2663357)\n",
      "(2203, 'SAN PEDRO DE ATACAMA', 7294095)\n",
      "(2301, 'TOCOPILLA', 5402461)\n",
      "(2302, 'MARÍA ELENA', 4283361)\n",
      "(3101, 'COPIAPÓ', 29543912)\n",
      "(3102, 'CALDERA', 9127075)\n",
      "(3103, 'TIERRA AMARILLA', 6147200)\n",
      "(3201, 'CHAÑARAL', 4435860)\n",
      "(3202, 'DIEGO DE ALMAGRO', 6284308)\n",
      "(3301, 'VALLENAR', 9106767)\n",
      "(3302, 'ALTO DEL CARMEN', 3318171)\n",
      "(3303, 'FREIRINA', 2998977)\n",
      "(3304, 'HUASCO', 3946468)\n",
      "(4101, 'LA SERENA', 59222000)\n",
      "(4102, 'COQUIMBO', 56819394)\n",
      "(4103, 'ANDACOLLO', 3586345)\n",
      "(4104, 'LA HIGUERA', 4090360)\n",
      "(4105, 'PAIGUANO', 4780000)\n",
      "(4106, 'VICUÑA', 8069308)\n",
      "(4201, 'ILLAPEL', 6299700)\n",
      "(4202, 'CANELA', 3000000)\n",
      "(4203, 'LOS VILOS', 7103931)\n",
      "(4204, 'SALAMANCA', 12768287)\n",
      "(4301, 'OVALLE', 21711795)\n",
      "(4302, 'COMBARBALÁ', 3110695)\n",
      "(4303, 'MONTE PATRIA', 6681407)\n",
      "(4304, 'PUNITAQUI', 3318380)\n",
      "(4305, 'RÍO HURTADO', 2090300)\n",
      "(5101, 'VALPARAÍSO', 77718000)\n",
      "(5102, 'CASABLANCA', 11386627)\n",
      "(5103, 'CONCÓN', 13684060)\n",
      "(5104, 'JUAN FERNÁNDEZ', 'No Recepcionado')\n",
      "(5105, 'PUCHUNCAVÍ', 7683900)\n",
      "(5107, 'QUINTERO', 12250000)\n",
      "(5109, 'VIÑA DEL MAR', 100482380)\n",
      "(5201, 'ISLA DE PASCUA', 9914468)\n",
      "(5301, 'LOS ANDES', 12991512)\n",
      "(5302, 'CALLE LARGA', 3549414)\n"
     ]
    }
   ],
   "source": [
    "cur.execute(\"SELECT * FROM Presupuestos;\")\n",
    "for i in range(50):\n",
    "    print(cur.fetchone())"
   ]
  },
  {
   "cell_type": "markdown",
   "metadata": {},
   "source": [
    "A continuación, utilizaremos panda para crear un dataframe a partir de una query de sql que nos entregue los datos que nos son de interés"
   ]
  },
  {
   "cell_type": "code",
   "execution_count": 4,
   "metadata": {},
   "outputs": [
    {
     "data": {
      "text/html": [
       "<div>\n",
       "<style scoped>\n",
       "    .dataframe tbody tr th:only-of-type {\n",
       "        vertical-align: middle;\n",
       "    }\n",
       "\n",
       "    .dataframe tbody tr th {\n",
       "        vertical-align: top;\n",
       "    }\n",
       "\n",
       "    .dataframe thead th {\n",
       "        text-align: right;\n",
       "    }\n",
       "</style>\n",
       "<table border=\"1\" class=\"dataframe\">\n",
       "  <thead>\n",
       "    <tr style=\"text-align: right;\">\n",
       "      <th></th>\n",
       "      <th>id</th>\n",
       "      <th>presupuesto</th>\n",
       "      <th>metros_plaza</th>\n",
       "      <th>metros_parque</th>\n",
       "    </tr>\n",
       "  </thead>\n",
       "  <tbody>\n",
       "    <tr>\n",
       "      <th>0</th>\n",
       "      <td>1101</td>\n",
       "      <td>59072234</td>\n",
       "      <td>58460</td>\n",
       "      <td>94824</td>\n",
       "    </tr>\n",
       "    <tr>\n",
       "      <th>1</th>\n",
       "      <td>1107</td>\n",
       "      <td>13984404</td>\n",
       "      <td>130316</td>\n",
       "      <td>0</td>\n",
       "    </tr>\n",
       "    <tr>\n",
       "      <th>2</th>\n",
       "      <td>1402</td>\n",
       "      <td>1584008</td>\n",
       "      <td>4050</td>\n",
       "      <td>0</td>\n",
       "    </tr>\n",
       "    <tr>\n",
       "      <th>3</th>\n",
       "      <td>1404</td>\n",
       "      <td>3950000</td>\n",
       "      <td>2300</td>\n",
       "      <td>0</td>\n",
       "    </tr>\n",
       "    <tr>\n",
       "      <th>4</th>\n",
       "      <td>1405</td>\n",
       "      <td>5887820</td>\n",
       "      <td>12925</td>\n",
       "      <td>20749</td>\n",
       "    </tr>\n",
       "    <tr>\n",
       "      <th>...</th>\n",
       "      <td>...</td>\n",
       "      <td>...</td>\n",
       "      <td>...</td>\n",
       "      <td>...</td>\n",
       "    </tr>\n",
       "    <tr>\n",
       "      <th>307</th>\n",
       "      <td>16301</td>\n",
       "      <td>10459701</td>\n",
       "      <td>168800</td>\n",
       "      <td>82226</td>\n",
       "    </tr>\n",
       "    <tr>\n",
       "      <th>308</th>\n",
       "      <td>16302</td>\n",
       "      <td>5001190</td>\n",
       "      <td>21282</td>\n",
       "      <td>0</td>\n",
       "    </tr>\n",
       "    <tr>\n",
       "      <th>309</th>\n",
       "      <td>16303</td>\n",
       "      <td>3386698</td>\n",
       "      <td>21925</td>\n",
       "      <td>0</td>\n",
       "    </tr>\n",
       "    <tr>\n",
       "      <th>310</th>\n",
       "      <td>16304</td>\n",
       "      <td>1798500</td>\n",
       "      <td>9500</td>\n",
       "      <td>0</td>\n",
       "    </tr>\n",
       "    <tr>\n",
       "      <th>311</th>\n",
       "      <td>16305</td>\n",
       "      <td>3979700</td>\n",
       "      <td>36300</td>\n",
       "      <td>4180</td>\n",
       "    </tr>\n",
       "  </tbody>\n",
       "</table>\n",
       "<p>312 rows × 4 columns</p>\n",
       "</div>"
      ],
      "text/plain": [
       "        id  presupuesto  metros_plaza  metros_parque\n",
       "0     1101     59072234         58460          94824\n",
       "1     1107     13984404        130316              0\n",
       "2     1402      1584008          4050              0\n",
       "3     1404      3950000          2300              0\n",
       "4     1405      5887820         12925          20749\n",
       "..     ...          ...           ...            ...\n",
       "307  16301     10459701        168800          82226\n",
       "308  16302      5001190         21282              0\n",
       "309  16303      3386698         21925              0\n",
       "310  16304      1798500          9500              0\n",
       "311  16305      3979700         36300           4180\n",
       "\n",
       "[312 rows x 4 columns]"
      ]
     },
     "execution_count": 4,
     "metadata": {},
     "output_type": "execute_result"
    }
   ],
   "source": [
    "query = '''\n",
    "SELECT c.id, p.presupuesto, av.metros_plaza, av.metros_parque FROM Comuna AS c, Presupuestos AS p, Areas_Verdes AS av \n",
    "WHERE c.id = p.id AND c.id = av.id_comuna AND av.metros_plaza != '' AND av.metros_parque != '' AND p.presupuesto != 'No Recepcionado';'''\n",
    "df = pd.read_sql_query(query, con)\n",
    "df = df.dropna(how='any',axis=0) #En caso de que sigan existiendo filas con valores nulos\n",
    "df"
   ]
  },
  {
   "cell_type": "code",
   "execution_count": 5,
   "metadata": {},
   "outputs": [],
   "source": [
    "con.commit()\n",
    "con.close()"
   ]
  },
  {
   "cell_type": "markdown",
   "metadata": {},
   "source": [
    "## 2.1. Correlación entre áreas verdes y presupuesto"
   ]
  },
  {
   "cell_type": "markdown",
   "metadata": {},
   "source": [
    "### 1. Crea un gráfico de puntos para visualizar la correlación entre el presupuesto de las comunas y la superficie en metros cuadrados de plazas con la que cuentan esas comunas. Entrega el coeficiente de correlación entre esos dos campos."
   ]
  },
  {
   "cell_type": "markdown",
   "metadata": {},
   "source": [
    "Para esto comenzaremos filtrando las columnas de nuestro dataframe"
   ]
  },
  {
   "cell_type": "code",
   "execution_count": 6,
   "metadata": {},
   "outputs": [],
   "source": [
    "presupuesto = df[['presupuesto']]\n",
    "plaza = df[['metros_plaza']]\n",
    "parque = df[['metros_parque']]"
   ]
  },
  {
   "cell_type": "code",
   "execution_count": 7,
   "metadata": {},
   "outputs": [
    {
     "data": {
      "image/png": "[encoded data removed]",
      "text/plain": [
       "<Figure size 432x288 with 1 Axes>"
      ]
     },
     "metadata": {
      "needs_background": "light"
     },
     "output_type": "display_data"
    }
   ],
   "source": [
    "fig = plt.figure()\n",
    "ax = fig.add_axes([0,0,2,2])\n",
    "plt.scatter(plaza, presupuesto)\n",
    "ax.set_xlabel('Metros cuadrados de plazas')\n",
    "ax.set_ylabel('Presupuesto')\n",
    "plt.gca().ticklabel_format(axis='both', style='plain', useOffset=False)\n",
    "plt.show()"
   ]
  },
  {
   "cell_type": "code",
   "execution_count": 8,
   "metadata": {},
   "outputs": [
    {
     "data": {
      "text/plain": [
       "presupuesto      1.000000\n",
       "metros_plaza     0.665585\n",
       "id               0.135770\n",
       "metros_parque   -0.008110\n",
       "Name: presupuesto, dtype: float64"
      ]
     },
     "execution_count": 8,
     "metadata": {},
     "output_type": "execute_result"
    }
   ],
   "source": [
    "df_corr = pd.merge(presupuesto, plaza, left_index=True, right_index=True)\n",
    "corr_matrix = df.corr()\n",
    "corr_matrix['presupuesto'].sort_values(ascending=False)"
   ]
  },
  {
   "cell_type": "markdown",
   "metadata": {},
   "source": [
    "Finalmente, obtenemos que la correlación entre el presupuesto y los metros cuadrados plazas es de 0.665585"
   ]
  },
  {
   "cell_type": "markdown",
   "metadata": {},
   "source": [
    "### 2. . Crea un gráfico de puntos para visualizar la correlación entre el presupuesto de las comunas y la superficie en metros cuadrados total, es decir, sumando plazas con áreas verdes, con la que cuentan esas comunas. Entrega el coeficiente de correlación entre esos dos campos."
   ]
  },
  {
   "cell_type": "markdown",
   "metadata": {},
   "source": [
    "Comenzamos creando una nueva columna que corresponderá a la suma entre los metros cuadrados de plazas y de parques"
   ]
  },
  {
   "cell_type": "code",
   "execution_count": 9,
   "metadata": {},
   "outputs": [
    {
     "data": {
      "text/plain": [
       "0      153284\n",
       "1      130316\n",
       "2        4050\n",
       "3        2300\n",
       "4       33674\n",
       "        ...  \n",
       "307    251026\n",
       "308     21282\n",
       "309     21925\n",
       "310      9500\n",
       "311     40480\n",
       "Length: 312, dtype: int64"
      ]
     },
     "execution_count": 9,
     "metadata": {},
     "output_type": "execute_result"
    }
   ],
   "source": [
    "suma = df['metros_plaza'] + df['metros_parque']\n",
    "suma"
   ]
  },
  {
   "cell_type": "markdown",
   "metadata": {},
   "source": [
    "Agregamos nuestra nueva columna al dataframe"
   ]
  },
  {
   "cell_type": "code",
   "execution_count": 10,
   "metadata": {},
   "outputs": [
    {
     "data": {
      "text/html": [
       "<div>\n",
       "<style scoped>\n",
       "    .dataframe tbody tr th:only-of-type {\n",
       "        vertical-align: middle;\n",
       "    }\n",
       "\n",
       "    .dataframe tbody tr th {\n",
       "        vertical-align: top;\n",
       "    }\n",
       "\n",
       "    .dataframe thead th {\n",
       "        text-align: right;\n",
       "    }\n",
       "</style>\n",
       "<table border=\"1\" class=\"dataframe\">\n",
       "  <thead>\n",
       "    <tr style=\"text-align: right;\">\n",
       "      <th></th>\n",
       "      <th>metros_ambos</th>\n",
       "    </tr>\n",
       "  </thead>\n",
       "  <tbody>\n",
       "    <tr>\n",
       "      <th>0</th>\n",
       "      <td>153284</td>\n",
       "    </tr>\n",
       "    <tr>\n",
       "      <th>1</th>\n",
       "      <td>130316</td>\n",
       "    </tr>\n",
       "    <tr>\n",
       "      <th>2</th>\n",
       "      <td>4050</td>\n",
       "    </tr>\n",
       "    <tr>\n",
       "      <th>3</th>\n",
       "      <td>2300</td>\n",
       "    </tr>\n",
       "    <tr>\n",
       "      <th>4</th>\n",
       "      <td>33674</td>\n",
       "    </tr>\n",
       "    <tr>\n",
       "      <th>...</th>\n",
       "      <td>...</td>\n",
       "    </tr>\n",
       "    <tr>\n",
       "      <th>307</th>\n",
       "      <td>251026</td>\n",
       "    </tr>\n",
       "    <tr>\n",
       "      <th>308</th>\n",
       "      <td>21282</td>\n",
       "    </tr>\n",
       "    <tr>\n",
       "      <th>309</th>\n",
       "      <td>21925</td>\n",
       "    </tr>\n",
       "    <tr>\n",
       "      <th>310</th>\n",
       "      <td>9500</td>\n",
       "    </tr>\n",
       "    <tr>\n",
       "      <th>311</th>\n",
       "      <td>40480</td>\n",
       "    </tr>\n",
       "  </tbody>\n",
       "</table>\n",
       "<p>312 rows × 1 columns</p>\n",
       "</div>"
      ],
      "text/plain": [
       "     metros_ambos\n",
       "0          153284\n",
       "1          130316\n",
       "2            4050\n",
       "3            2300\n",
       "4           33674\n",
       "..            ...\n",
       "307        251026\n",
       "308         21282\n",
       "309         21925\n",
       "310          9500\n",
       "311         40480\n",
       "\n",
       "[312 rows x 1 columns]"
      ]
     },
     "execution_count": 10,
     "metadata": {},
     "output_type": "execute_result"
    }
   ],
   "source": [
    "df['metros_ambos'] = suma\n",
    "ambos = df[['metros_ambos']]\n",
    "ambos"
   ]
  },
  {
   "cell_type": "markdown",
   "metadata": {},
   "source": [
    "Nuestra nueva tabla queda como"
   ]
  },
  {
   "cell_type": "code",
   "execution_count": 11,
   "metadata": {},
   "outputs": [
    {
     "name": "stdout",
     "output_type": "stream",
     "text": [
      "        id  presupuesto  metros_plaza  metros_parque  metros_ambos\n",
      "0     1101     59072234         58460          94824        153284\n",
      "1     1107     13984404        130316              0        130316\n",
      "2     1402      1584008          4050              0          4050\n",
      "3     1404      3950000          2300              0          2300\n",
      "4     1405      5887820         12925          20749         33674\n",
      "5     2101    100635302        409807         269533        679340\n",
      "6     2103      8184166          8287          35608         43895\n",
      "7     2201     46212092        283236         180901        464137\n",
      "8     2202      2663357          2500              0          2500\n",
      "9     2302      4283361          6410              0          6410\n",
      "10    3102      9127075        170367          22206        192573\n",
      "11    3103      6147200          5000          16000         21000\n",
      "12    3201      4435860         13878            569         14447\n",
      "13    3202      6284308         28600          57000         85600\n",
      "14    3301      9106767        102233          58013        160246\n",
      "15    3302      3318171         25215              0         25215\n",
      "16    3303      2998977         40078              0         40078\n",
      "17    3304      3946468         15511          58584         74095\n",
      "18    4101     59222000        941514        1196588       2138102\n",
      "19    4102     56819394       1499157          91306       1590463\n",
      "20    4103      3586345            76             52           128\n",
      "21    4104      4090360         25593          23600         49193\n",
      "22    4105      4780000          9445              0          9445\n",
      "23    4106      8069308         96690         190000        286690\n",
      "24    4201      6299700         46244          11500         57744\n",
      "25    4202      3000000         22805              0         22805\n",
      "26    4203      7103931         45772          44897         90669\n",
      "27    4204     12768287         24543          33253         57796\n",
      "28    4301     21711795           424            318           742\n",
      "29    4302      3110695           450              0           450\n",
      "30    4303      6681407         16411          50406         66817\n",
      "31    4304      3318380          8094              0          8094\n",
      "32    5101     77718000        464470              0        464470\n",
      "33    5102     11386627         32389              0         32389\n",
      "34    5103     13684060         61528          45387        106915\n",
      "35    5105      7683900         10800              0         10800\n",
      "36    5107     12250000        114852     2384614702    2384729554\n",
      "37    5109    100482380        809912         566972       1376884\n",
      "38    5201      9914468          9811              0          9811\n",
      "39    5301     12991512        282110          60000        342110\n",
      "40    5302      3549414         24383              0         24383\n",
      "41    5304      3009539         20400              0         20400\n",
      "42    5402      3877000         14878           9800         24678\n",
      "43    5403      5947500         20000          11000         31000\n",
      "44    5404      3536627         13993              0         13993\n",
      "45    5405     20408830         41166          26300         67466\n",
      "46    5501     17248430        226379         197748        424127\n",
      "47    5502      7747450        138742             66        138808\n",
      "48    5503      4283417         26500          40500         67000\n",
      "49    5504      5703367         50727              0         50727\n",
      "50    5506      4696549           123              0           123\n",
      "51    5601     21518873        372936          26443        399379\n",
      "52    5603     11380129         45000          68500        113500\n",
      "53    5604     12353172         97868              0         97868\n",
      "54    5605      9582451         60375              0         60375\n",
      "55    5606     13339600        197616         177150        374766\n",
      "56    5701     18346041        431219         110897        542116\n",
      "57    5702      3359823          7063              0          7063\n",
      "58    5703      5133425          4885          59207         64092\n",
      "59    5704      2542648         71335              0         71335\n",
      "60    5705      4206900          3014          45937         48951\n",
      "61    5706      3513315         10000              0         10000\n",
      "62    5801     24359486        427656              0        427656\n",
      "63    5802      8872592        261000          19552        280552\n",
      "64    5803      4910700         18182              0         18182\n",
      "65    6101     55996193       1628888         298922       1927810\n",
      "66    6103      2753210         21812              0         21812\n",
      "67    6104      4252840         68919           5000         73919\n",
      "68    6105      5290000         45950              0         45950\n",
      "69    6106      5027111        199788          21351        221139\n",
      "70    6108     10406400        385998          70000        455998\n",
      "71    6109      3316328         40402              0         40402\n",
      "72    6111      3493201         31974              0         31974\n",
      "73    6112      3625811         45761           6000         51761\n",
      "74    6113      3825757         36280              0         36280\n",
      "75    6114      2697396         23368           2329         25697\n",
      "76    6115      8968796        366952          56000        422952\n",
      "77    6116      6363928          7093              0          7093\n",
      "78    6117      8763198        168198              0        168198\n",
      "79    6201     10384795        117519          18485        136004\n",
      "80    6202      2490940         11000              0         11000\n",
      "81    6203      3210790         12380              0         12380\n",
      "82    6204      2598116         31372          14557         45929\n",
      "83    6205      7642808         13000          37900         50900\n",
      "84    6206      2849614         29300          20000         49300\n",
      "85    6301     14500000        231241          97286        328527\n",
      "86    6302      3188140         40788              0         40788\n",
      "87    6303      8273769         94330           7800        102130\n",
      "88    6304      2082643         20880          40912         61792\n",
      "89    6305      5394372         62855          40000        102855\n",
      "90    6306      3234467         39252          20600         59852\n",
      "91    6307      3661210         29800          49000         78800\n",
      "92    6309      2588349          7325              0          7325\n",
      "93    6310      7699840        162000         240000        402000\n",
      "94    7101     42998578       1329575         462725       1792300\n",
      "95    7102     14354775         19850          50000         69850\n",
      "96    7103      3194250          7800           9400         17200\n",
      "97    7104      2081575         15523         140000        155523\n",
      "98    7105      6553468          2299         103771        106070\n",
      "99    7106      5535788         17140              0         17140\n",
      "100   7107      3102700         24800              0         24800\n",
      "101   7108      3805989         33325          23069         56394\n",
      "102   7110      2408324          7192              0          7192\n",
      "103   7201      9355350        128488          25000        153488\n",
      "104   7202      3160048         17601        1900000       1917601\n",
      "105   7203      5469336         20377          27000         47377\n",
      "106   7301     26862347        711759          92095        803854\n",
      "107   7302      5176170          7939              0          7939\n",
      "108   7303      3570000         26207              0         26207\n",
      "109   7304      8497305        225308              0        225308\n",
      "110   7305      4776191         57156              0         57156\n",
      "111   7306      5051025         22839          24000         46839\n",
      "112   7307      6986530         64058              0         64058\n",
      "113   7308      4814779        106210              0        106210\n",
      "114   7309      3687940          8830           4550         13380\n",
      "115   7401     15576072         32972          38148         71120\n",
      "116   7402      7080135         15601              0         15601\n",
      "117   7403      4722613         59800              0         59800\n",
      "118   7404      8278415         20067              0         20067\n",
      "119   7405      3446855         32974          21622         54596\n",
      "120   7406      7533750        153114          11620        164734\n",
      "121   7407      3043200          3600          11974         15574\n",
      "122   7408      3610765         18200              0         18200\n",
      "123   8101     44704000         99436         307408        406844\n",
      "124   8103     15456966        421595          44061        465656\n",
      "125   8104      3065000         14720              0         14720\n",
      "126   8105      5312675             2              0             2\n",
      "127   8107      8343633         17300          17600         34900\n",
      "128   8108     20083168       1265443         221518       1486961\n",
      "129   8109      4313960         30000          93000        123000\n",
      "130   8110     29795363        786545         380707       1167252\n",
      "131   8111     11993342        112173          77995        190168\n",
      "132   8112     14961392        377259          43736        420995\n",
      "133   8201      4190000         53000          39075         92075\n",
      "134   8202      6980061         23662          19400         43062\n",
      "135   8203      7147208         13151         138000        151151\n",
      "136   8204      2340043         10000          40000         50000\n",
      "137   8205      5615999         29388              0         29388\n",
      "138   8206      4232100          4540              0          4540\n",
      "139   8207      6234963          7043          92957        100000\n",
      "140   8301     38251170        977593         327762       1305355\n",
      "141   8302      3197788         20277              0         20277\n",
      "142   8303      7582683         76608              0         76608\n",
      "143   8304      5251932         33629              0         33629\n",
      "144   8305      5011437         11020           4417         15437\n",
      "145   8306      5713600         70681          37498        108179\n",
      "146   8307      2777533         65500           9000         74500\n",
      "147   8308      2040880         27515              0         27515\n",
      "148   8309      3032686         15263           6470         21733\n",
      "149   8310      1694660          8000          12000         20000\n",
      "150   8311      3380777         24525          14481         39006\n",
      "151   8312      4030781         40000              0         40000\n",
      "152   8313      6930518         68122              0         68122\n",
      "153   8314      2137930         23910              0         23910\n",
      "154   9101     66388232        123165         276260        399425\n",
      "155   9102      5502032         17430          40250         57680\n",
      "156   9103      5351699         28498           4401         32899\n",
      "157   9104      2437620         14710          49104         63814\n",
      "158   9105      5886237         47362              0         47362\n",
      "159   9106      3017152         10816           8350         19166\n",
      "160   9107      3830556         19770           8698         28468\n",
      "161   9108      8005476           100         380000        380100\n",
      "162   9109      5149741         30000              0         30000\n",
      "163   9111      7550000         14017          42000         56017\n",
      "164   9112     13524153         91165          54232        145397\n",
      "165   9113      2754255         18543              0         18543\n",
      "166   9114      4330000         20000         160000        180000\n",
      "167   9115      9407039         94388          44533        138921\n",
      "168   9116      4134479         26500          68000         94500\n",
      "169   9117      3641529         43250              0         43250\n",
      "170   9118      2651040         21275           5200         26475\n",
      "171   9119      5372994         78000              0         78000\n",
      "172   9120     10772491        223886         202442        426328\n",
      "173   9121      3266000         15437              0         15437\n",
      "174   9201      8768839        209000          51000        260000\n",
      "175   9202      5773662         21300          70000         91300\n",
      "176   9203      4998389         10000              0         10000\n",
      "177   9204      2446668         36450              0         36450\n",
      "178   9205      3184570         39693              0         39693\n",
      "179   9206      2473372         77675          31200        108875\n",
      "180   9207      2795624         29550           6432         35982\n",
      "181   9208      2829088         10363          15000         25363\n",
      "182   9209      2587480         45802              0         45802\n",
      "183   9210      4193138         13200          32200         45400\n",
      "184   9211      6868857         24000          24100         48100\n",
      "185  10101     52090583        882370         154440       1036810\n",
      "186  10102      5800000         13983          10711         24694\n",
      "187  10104      2889074         19343              0         19343\n",
      "188  10105      3660000         69345              0         69345\n",
      "189  10106      3240148         18000              0         18000\n",
      "190  10108      3500000         24599         185178        209777\n",
      "191  10109     10032229        111752          81468        193220\n",
      "192  10201     10841402         93000          83000        176000\n",
      "193  10202     14368130        160566              0        160566\n",
      "194  10203      7659290         15884              0         15884\n",
      "195  10204      2626500          5341              0          5341\n",
      "196  10205      5824378          5000          10920         15920\n",
      "197  10207      2751000         10834              0         10834\n",
      "198  10208      5297637         21906              0         21906\n",
      "199  10209      3100161          3800              0          3800\n",
      "200  10210      2813450          1200              0          1200\n",
      "201  10301     30000000        633325         559772       1193097\n",
      "202  10302      2344532         20600          23350         43950\n",
      "203  10303      3988842        166265          45000        211265\n",
      "204  10305      2824377          7649            135          7784\n",
      "205  10306      3069820         28000              0         28000\n",
      "206  10401      3210881         11880              0         11880\n",
      "207  10402      2267646         15000              0         15000\n",
      "208  10403      2727674          8000           7000         15000\n",
      "209  10404      1634696          7763              0          7763\n",
      "210  11101     13440140        418652              0        418652\n",
      "211  11102      1716600          2870          21400         24270\n",
      "212  11201      7212686         10000           8000         18000\n",
      "213  11202      5716021         27853              0         27853\n",
      "214  11203      1974700           250            600           850\n",
      "215  11301      2515892         29940          45735         75675\n",
      "216  11302      1592867         11072           9028         20100\n",
      "217  11303      1462180          1500              0          1500\n",
      "218  11401      4272869         49121              0         49121\n",
      "219  11402      2113872         47641              0         47641\n",
      "220  12101     42514674         28000         290300        318300\n",
      "221  12104      1721730         10647              0         10647\n",
      "222  12201      2743100          7173       16879080      16886253\n",
      "223  12301      3124177         14585          73369         87954\n",
      "224  12302      1572828         17283              0         17283\n",
      "225  12303      1323606          1255              0          1255\n",
      "226  12401      7985094         94500          70000        164500\n",
      "227  12402      1565900          7170              0          7170\n",
      "228  13101    163383547        330216        1578022       1908238\n",
      "229  13102     21631584         73465         712282        785747\n",
      "230  13103     33120130        500466         446433        946899\n",
      "231  13104     36648910        388576          72127        460703\n",
      "232  13105     26147356        432498          48564        481062\n",
      "233  13106     30377059        662571         168000        830571\n",
      "234  13107     36044000        439745        1881421       2321166\n",
      "235  13108     19922970         79318          23520        102838\n",
      "236  13109     15090000        102607          10000        112607\n",
      "237  13110     95609849       1518203          83738       1601941\n",
      "238  13111     18350500        243414         440453        683867\n",
      "239  13112     29062197        779145         216300        995445\n",
      "240  13113     34268660        442931              0        442931\n",
      "241  13114    339980450       1636790         362000       1998790\n",
      "242  13115     92819380        959924         598328       1558252\n",
      "243  13116     16752213        213581          46785        260366\n",
      "244  13117     32938719        250717         135403        386120\n",
      "245  13118     33799600        443579          85595        529174\n",
      "246  13119    119318265       2661113         680416       3341529\n",
      "247  13120     63443811        583314         262130        845444\n",
      "248  13121     14788025        136241         429839        566080\n",
      "249  13122     56733833       1179088         594373       1773461\n",
      "250  13123    125041538        212347         418630        630977\n",
      "251  13124     87884438        896241         238371       1134612\n",
      "252  13125     46258275        814723           5000        819723\n",
      "253  13126     27227977        145303         343633        488936\n",
      "254  13127     35469622        443930         382219        826149\n",
      "255  13128     37374165        862181         164000       1026181\n",
      "256  13129     30509260        315000         161612        476612\n",
      "257  13130     29790075         99362          74717        174079\n",
      "258  13131     15302965        382145          92000        474145\n",
      "259  13132     97000000        237461         373750        611211\n",
      "260  13201     85384566       2576707         252712       2829419\n",
      "261  13202      8778707         58082              0         58082\n",
      "262  13203      5948972         40210              0         40210\n",
      "263  13301     50974140        638619         242683        881302\n",
      "264  13302     36139091        752055              0        752055\n",
      "265  13303      3995000         42722          55649         98371\n",
      "266  13401     52127690       1372230         202919       1575149\n",
      "267  13403      8965100         50854              0         50854\n",
      "268  13404     12509277        153982          20100        174082\n",
      "269  13501     34185594         43455          46753         90208\n",
      "270  13503      6464280         94434           5400         99834\n",
      "271  13504      6326744         22050              0         22050\n",
      "272  13505      3145695         16291              0         16291\n",
      "273  13601     13429420        317721         114700        432421\n",
      "274  13602      6400000         90000              0         90000\n",
      "275  13603      6342052         85595              0         85595\n",
      "276  13604      9898130        290000          24000        314000\n",
      "277  13605     14636053        230166         301078        531244\n",
      "278  14101     34900000        112083         322352        434435\n",
      "279  14102      2340000          4163      332763200     332767363\n",
      "280  14103      3602277         35928              0         35928\n",
      "281  14105      2080032         15400         100000        115400\n",
      "282  14106      3452100         55000          35000         90000\n",
      "283  14107      3497219         48783              0         48783\n",
      "284  14108     16864000         23246          98050        121296\n",
      "285  14201      6839300        225706          20000        245706\n",
      "286  14202      3486415         24799              0         24799\n",
      "287  14203      3135370         19448          38139         57587\n",
      "288  14204      5771272         28000              0         28000\n",
      "289  15101     37808221        358253         153181        511434\n",
      "290  15102      2478356          1000              0          1000\n",
      "291  15201      2664568         12401              0         12401\n",
      "292  15202      1438262          2500              0          2500\n",
      "293  16101     33169675        645000          71000        716000\n",
      "294  16102      4529280         85380              0         85380\n",
      "295  16103      5256732        108911          30497        139408\n",
      "296  16104      3129310         29585              0         29585\n",
      "297  16105      2925257         15625              0         15625\n",
      "298  16106      3404615         25910              0         25910\n",
      "299  16107      6089229          7362              0          7362\n",
      "300  16108      3709991         28459              0         28459\n",
      "301  16109      4031951         17500              0         17500\n",
      "302  16203      4393538         23872              0         23872\n",
      "303  16204      2098227         19081          51512         70593\n",
      "304  16205      1878677         10000              0         10000\n",
      "305  16206      2450958          7338          20375         27713\n",
      "306  16207      2120717          5500           7500         13000\n",
      "307  16301     10459701        168800          82226        251026\n",
      "308  16302      5001190         21282              0         21282\n",
      "309  16303      3386698         21925              0         21925\n",
      "310  16304      1798500          9500              0          9500\n",
      "311  16305      3979700         36300           4180         40480\n"
     ]
    }
   ],
   "source": [
    "print(df.sort_values(by=['id']).to_string()) #Se puede cambiar el 'id' por otra columna para ordenarla con respecto a esa"
   ]
  },
  {
   "cell_type": "markdown",
   "metadata": {},
   "source": [
    "Ahora, utilizamos matplotlib para graficar un gráfico de puntos con el fin de visualizar la correlación entre el presupuesto de las comunas y la superficie en metros cuadrados total"
   ]
  },
  {
   "cell_type": "code",
   "execution_count": 12,
   "metadata": {},
   "outputs": [
    {
     "data": {
      "image/png": "[encoded data removed]",
      "text/plain": [
       "<Figure size 432x288 with 1 Axes>"
      ]
     },
     "metadata": {
      "needs_background": "light"
     },
     "output_type": "display_data"
    }
   ],
   "source": [
    "fig = plt.figure()\n",
    "ax = fig.add_axes([0,0,2,2])\n",
    "ax.scatter(ambos, presupuesto)\n",
    "ax.set_xlabel('Metros cuadrados de ambos')\n",
    "ax.set_ylabel('Presupuesto')\n",
    "plt.gca().ticklabel_format(axis='both', style='plain', useOffset=False)\n",
    "plt.show()"
   ]
  },
  {
   "cell_type": "code",
   "execution_count": 13,
   "metadata": {},
   "outputs": [
    {
     "data": {
      "text/plain": [
       "presupuesto     1.000000\n",
       "metros_ambos   -0.006414\n",
       "Name: presupuesto, dtype: float64"
      ]
     },
     "execution_count": 13,
     "metadata": {},
     "output_type": "execute_result"
    }
   ],
   "source": [
    "df_corr = pd.merge(presupuesto, ambos, left_index=True, right_index=True)\n",
    "corr_matrix = df_corr.corr()\n",
    "corr_matrix['presupuesto'].sort_values(ascending=False)"
   ]
  },
  {
   "cell_type": "markdown",
   "metadata": {},
   "source": [
    "Finalmente, obtenemos que la correlación entre el presupuesto y los metros cuadrados totales es de -0.006414"
   ]
  },
  {
   "cell_type": "markdown",
   "metadata": {},
   "source": [
    "### 3. En base a esos dos experimentos, argumenta qué campo es mejor para ser utilizado en una regresión: la superficie de plazas o la superficie de plazas sumadas con parques."
   ]
  },
  {
   "cell_type": "markdown",
   "metadata": {},
   "source": [
    "Dado que la superficie de plazas (0.665585) posee un coeficiente de correlación más cercano a 1, será mejor que la superficie de plazas sumadas con parques (-0.006414) para ser utilizado en una regresión lineal."
   ]
  },
  {
   "cell_type": "markdown",
   "metadata": {},
   "source": [
    "A continuación se puede ver la correlación entre el presupuesto y todas las otras columnas de nuestra tabla"
   ]
  },
  {
   "cell_type": "code",
   "execution_count": 14,
   "metadata": {},
   "outputs": [
    {
     "data": {
      "text/plain": [
       "presupuesto      1.000000\n",
       "metros_plaza     0.665585\n",
       "id               0.135770\n",
       "metros_ambos    -0.006414\n",
       "metros_parque   -0.008110\n",
       "Name: presupuesto, dtype: float64"
      ]
     },
     "execution_count": 14,
     "metadata": {},
     "output_type": "execute_result"
    }
   ],
   "source": [
    "corr_matrix = df.corr()\n",
    "corr_matrix['presupuesto'].sort_values(ascending=False)"
   ]
  },
  {
   "cell_type": "markdown",
   "metadata": {},
   "source": [
    "## 2.2 Regresión"
   ]
  },
  {
   "cell_type": "markdown",
   "metadata": {},
   "source": [
    "Sea S el indicador de superficie que elegiste en la parte anterior (ya sea plazas o suma de\n",
    "plazas con parques)."
   ]
  },
  {
   "cell_type": "markdown",
   "metadata": {},
   "source": [
    "### 4. Entrega un modelo de regresión que te permita predecir el presupuesto de una comuna, en función de S. Utiliza cross-validation, dividiendo en 5 partes iguales."
   ]
  },
  {
   "cell_type": "code",
   "execution_count": 15,
   "metadata": {},
   "outputs": [
    {
     "data": {
      "text/plain": [
       "array([15622471.32324226, 10983732.46648973, 11589205.54256619,\n",
       "       40034943.79749148, 21762740.62282478])"
      ]
     },
     "execution_count": 15,
     "metadata": {},
     "output_type": "execute_result"
    }
   ],
   "source": [
    "from sklearn.model_selection import cross_val_score\n",
    "from sklearn.linear_model import LinearRegression\n",
    "import numpy as np\n",
    "\n",
    "\n",
    "lin_reg = LinearRegression()\n",
    "\n",
    "\n",
    "scores = cross_val_score(lin_reg, plaza, presupuesto, scoring='neg_mean_squared_error', cv=5)\n",
    "lin_rmse_scores = np.sqrt(-scores)\n",
    "lin_rmse_scores"
   ]
  },
  {
   "cell_type": "code",
   "execution_count": 16,
   "metadata": {},
   "outputs": [
    {
     "name": "stdout",
     "output_type": "stream",
     "text": [
      "19998618.75052289\n",
      "10730363.636798292\n"
     ]
    }
   ],
   "source": [
    "print(lin_rmse_scores.mean())\n",
    "print(lin_rmse_scores.std())"
   ]
  },
  {
   "cell_type": "markdown",
   "metadata": {},
   "source": [
    "Finalmente, hemos logrado crear un modelo de regresión que nos entrega una predicción del presupuesto de una comuna a partir de los metros cuadrados de plazas que esta posee, dado que su correlación era mayor que la del presupuesto con los metros cuadrados de plazas y parques. "
   ]
  },
  {
   "cell_type": "markdown",
   "metadata": {},
   "source": [
    "De todos modos, producto de la presencia de casos extremos entre las comunas, nuestras predicciones no son muy exactas, pues poseen un error con promedio de 19.998.618, valor que excede el presupuesto de muchas comunas."
   ]
  }
 ],
 "metadata": {
  "kernelspec": {
   "display_name": "Python 3",
   "language": "python",
   "name": "python3"
  },
  "language_info": {
   "codemirror_mode": {
    "name": "ipython",
    "version": 3
   },
   "file_extension": ".py",
   "mimetype": "text/x-python",
   "name": "python",
   "nbconvert_exporter": "python",
   "pygments_lexer": "ipython3",
   "version": "3.6.8"
  }
 },
 "nbformat": 4,
 "nbformat_minor": 2
}
